{
 "cells": [
  {
   "cell_type": "code",
   "execution_count": 4,
   "id": "656b8026-bf9c-464a-84dd-0f70436e88c6",
   "metadata": {},
   "outputs": [],
   "source": [
    "# 3"
   ]
  },
  {
   "cell_type": "code",
   "execution_count": 5,
   "id": "97637113-68aa-468e-a570-09ed752ab533",
   "metadata": {},
   "outputs": [],
   "source": [
    "from datetime import datetime"
   ]
  },
  {
   "cell_type": "code",
   "execution_count": 6,
   "id": "37c4c8f0-612c-4864-8882-df59bcd37a18",
   "metadata": {},
   "outputs": [],
   "source": [
    "class Heap:\n",
    "    def __init__(self, list=None):\n",
    "        if list is None:\n",
    "            self.__A = []\n",
    "        else:\n",
    "            self.__A = list\n",
    "            self.buildHeap()\n",
    "\n",
    "    def insert(self, x):\n",
    "        self.__A.append(x)\n",
    "        self.__percolateUp(len(self.__A) - 1)\n",
    "\n",
    "    def deleteMax(self):\n",
    "        if not self.isEmpty():\n",
    "            max_item = self.__A[0]\n",
    "            self.__A[0] = self.__A[-1]\n",
    "            self.__A.pop()\n",
    "            self.__percolateDown(0)\n",
    "            return max_item\n",
    "        return None\n",
    "\n",
    "    def max(self):\n",
    "        return self.__A[0] if not self.isEmpty() else None\n",
    "\n",
    "    def buildHeap(self):\n",
    "        for i in reversed(range(len(self.__A)//2)):\n",
    "            self.__percolateDown(i)\n",
    "\n",
    "    def size(self):\n",
    "        return len(self.__A)\n",
    "\n",
    "    def isEmpty(self):\n",
    "        return self.size() == 0\n",
    "\n",
    "    def clear(self):\n",
    "        self.__A = []\n",
    "\n",
    "    def __percolateUp(self, i):\n",
    "        parent = (i - 1) // 2\n",
    "        if i > 0 and self.__A[i][0] > self.__A[parent][0]:\n",
    "            self.__A[i], self.__A[parent] = self.__A[parent], self.__A[i]\n",
    "            self.__percolateUp(parent)\n",
    "\n",
    "    def __percolateDown(self, i):\n",
    "        child = 2 * i + 1\n",
    "        if child < len(self.__A):\n",
    "            if child + 1 < len(self.__A) and self.__A[child][0] < self.__A[child + 1][0]:\n",
    "                child += 1\n",
    "            if self.__A[i][0] < self.__A[child][0]:\n",
    "                self.__A[i], self.__A[child] = self.__A[child], self.__A[i]\n",
    "                self.__percolateDown(child)"
   ]
  },
  {
   "cell_type": "code",
   "execution_count": 7,
   "id": "33bbdcb8-2fc7-4800-93d0-2dda814a2fb9",
   "metadata": {},
   "outputs": [],
   "source": [
    "import csv\n",
    "\n",
    "heap = Heap()"
   ]
  },
  {
   "cell_type": "code",
   "execution_count": 8,
   "id": "5fcb6420-e66e-42d1-babf-d981dc44fd1d",
   "metadata": {},
   "outputs": [],
   "source": [
    "with open('birthday.csv', newline='', encoding='utf-8') as csvfile:\n",
    "    reader = csv.reader(csvfile)\n",
    "    next(reader) \n",
    "    for row in reader:\n",
    "        name, birth_str = row[0], row[1]\n",
    "        try:\n",
    "            birthday = datetime.strptime(birth_str, '%Y%m%d')\n",
    "            timestamp = birthday.timestamp()\n",
    "            heap.insert((timestamp, name, birth_str))\n",
    "        except ValueError:\n",
    "            continue "
   ]
  },
  {
   "cell_type": "code",
   "execution_count": 9,
   "id": "568fbc5b-ae26-4a3f-86bd-735f3a96b856",
   "metadata": {},
   "outputs": [
    {
     "name": "stdout",
     "output_type": "stream",
     "text": [
      "생일이 늦은 10명:\n",
      "신수민 - 20051230\n",
      "이서영 - 20051225\n",
      "강민주 - 20051214\n",
      "김민경 - 20051202\n",
      "이서영 - 20051112\n",
      "배시은 - 20051102\n",
      "김여원 - 20051031\n",
      "이서진 - 20051028\n",
      "서홍빈 - 20051024\n",
      "김예빈 - 20051019\n"
     ]
    }
   ],
   "source": [
    "print(\"생일이 늦은 10명:\")\n",
    "for _ in range(min(10, heap.size())):\n",
    "    _, name, birth = heap.deleteMax()\n",
    "    print(f\"{name} - {birth}\")"
   ]
  },
  {
   "cell_type": "code",
   "execution_count": 10,
   "id": "9d82e609-ea5b-4bb9-8bbd-011aea5dfc4c",
   "metadata": {},
   "outputs": [],
   "source": [
    "# 4"
   ]
  },
  {
   "cell_type": "code",
   "execution_count": 11,
   "id": "a617c6c6-bbde-41e4-a8de-575ba6e8dfc8",
   "metadata": {},
   "outputs": [],
   "source": [
    "class Node:\n",
    "    def __init__(self, name, birth):\n",
    "        self.name = name\n",
    "        self.birth = birth\n",
    "        self.prev = None\n",
    "        self.next = None\n",
    "\n",
    "class CircularDoublyLinkedList:\n",
    "    def __init__(self):\n",
    "        self.head = None\n",
    "\n",
    "    def insert(self, name, birth):\n",
    "        new_node = Node(name, birth)\n",
    "        if self.head is None:\n",
    "            self.head = new_node\n",
    "            new_node.next = new_node\n",
    "            new_node.prev = new_node\n",
    "        else:\n",
    "            tail = self.head.prev\n",
    "            tail.next = new_node\n",
    "            new_node.prev = tail\n",
    "            new_node.next = self.head\n",
    "            self.head.prev = new_node\n",
    "\n",
    "    def print_team(self, team_names):\n",
    "        if self.head is None:\n",
    "            return\n",
    "        current = self.head\n",
    "        visited = set()\n",
    "        print(\"같은 조 친구들의 생년월일:\")\n",
    "        while True:\n",
    "            if current.name in team_names and current.name not in visited:\n",
    "                print(f\"{current.name} - {current.birth}\")\n",
    "                visited.add(current.name)\n",
    "            current = current.next\n",
    "            if current == self.head:\n",
    "                break\n"
   ]
  },
  {
   "cell_type": "code",
   "execution_count": 12,
   "id": "cf8b5628-143e-4647-8ff2-e05a03ccfa35",
   "metadata": {},
   "outputs": [],
   "source": [
    "my_team = ['강주영', '김예원', '전예빈', '윤소정', '홍서연',\n",
    "           '이채린', '김소민', '강다원', '정혜민', '이서연']"
   ]
  },
  {
   "cell_type": "code",
   "execution_count": 13,
   "id": "07928f77-6d9a-4577-b507-31f282e69067",
   "metadata": {},
   "outputs": [],
   "source": [
    "cdll = CircularDoublyLinkedList()"
   ]
  },
  {
   "cell_type": "code",
   "execution_count": 14,
   "id": "64f06a84-f35c-4d7a-ae1b-94c167f52379",
   "metadata": {},
   "outputs": [],
   "source": [
    "with open('birthday.csv', newline='', encoding='utf-8') as csvfile:\n",
    "    reader = csv.reader(csvfile)\n",
    "    next(reader) \n",
    "    for row in reader:\n",
    "        name, birth = row[0], row[1]\n",
    "        cdll.insert(name, birth)"
   ]
  },
  {
   "cell_type": "code",
   "execution_count": 15,
   "id": "112b0c04-0dab-4f14-b32b-85f1f1a3d22c",
   "metadata": {},
   "outputs": [
    {
     "name": "stdout",
     "output_type": "stream",
     "text": [
      "같은 조 친구들의 생년월일:\n",
      "강다원 - 20031015\n",
      "강주영 - 20041228\n",
      "김소민 - 20050203\n",
      "김예원 - 20040412\n",
      "윤소정 - 20040413\n",
      "이서연 - 20041007\n",
      "이채린 - 20030516\n",
      "정혜민 - 20030917\n",
      "홍서연 - 20040611\n"
     ]
    }
   ],
   "source": [
    "cdll.print_team(my_team)"
   ]
  },
  {
   "cell_type": "code",
   "execution_count": 16,
   "id": "83051496-cf19-48fe-aaaf-dc3f415b1497",
   "metadata": {},
   "outputs": [],
   "source": [
    "# 5"
   ]
  },
  {
   "cell_type": "code",
   "execution_count": 17,
   "id": "b8cb30f3-f3c0-4daa-9ffe-2d2ee5fe1f18",
   "metadata": {},
   "outputs": [],
   "source": [
    "# 01. 최대 힙에서는 부모 ≥ 자식 조건만 만족하면 되므로, 깊이가 얕은 노드(위쪽에 있는 노드)가 더 작은 값을 가지는 경우도 존재할 수 있다."
   ]
  },
  {
   "cell_type": "code",
   "execution_count": 18,
   "id": "d2b6fdfb-54f2-4ef0-bf27-2786524991c5",
   "metadata": {},
   "outputs": [],
   "source": [
    "# 02. 아니다. A[n-1]은 단지 마지막 리프 노드일 뿐이며, 다른 리프 노드들보다 값이 더 클 수도 있다."
   ]
  },
  {
   "cell_type": "code",
   "execution_count": 19,
   "id": "dec79f6f-3ea4-4d3c-8a5e-b84f27bd027b",
   "metadata": {},
   "outputs": [],
   "source": [
    "# 03. ⌈n/2⌉ 개"
   ]
  },
  {
   "cell_type": "code",
   "execution_count": 20,
   "id": "f54bb00d-6e5a-48fa-ae95-3570bddd70dd",
   "metadata": {},
   "outputs": [],
   "source": [
    "# 04\n",
    "# 최악의 경우: Θ(log n)\n",
    "# 최선의 경우: Θ(1)"
   ]
  },
  {
   "cell_type": "code",
   "execution_count": 21,
   "id": "c1b64f5e-aa56-4467-bdd8-2a98f1c25434",
   "metadata": {},
   "outputs": [],
   "source": [
    "# 05. 간단하다. 마지막 원소는 리프이므로 단순히 제거만 해도 힙 성질을 해치지 않으며, 시간복잡도는 Θ(1)이다."
   ]
  },
  {
   "cell_type": "code",
   "execution_count": 22,
   "id": "0fe0b971-25df-4a4b-a2f8-49baa38b89b4",
   "metadata": {},
   "outputs": [],
   "source": [
    "# 06. 힙은 만들어지지만, 덜 효율적이다."
   ]
  },
  {
   "cell_type": "code",
   "execution_count": 23,
   "id": "1d5bb7ce-ede6-47e3-b29f-f80420dc8331",
   "metadata": {},
   "outputs": [],
   "source": [
    "# 07. 값이 증가한 노드를 부모와 비교하고 부모보다 크면 위로 올린다. 이 과정을 루트까지 반복한다."
   ]
  },
  {
   "cell_type": "code",
   "execution_count": 24,
   "id": "4acdf2fa-034e-4bca-a3b0-ec03e04c6f61",
   "metadata": {},
   "outputs": [],
   "source": [
    "# 6"
   ]
  },
  {
   "cell_type": "code",
   "execution_count": 25,
   "id": "f690b918-53d6-46f9-9d0e-907b074809ae",
   "metadata": {},
   "outputs": [],
   "source": [
    "import heapq\n",
    "\n",
    "class KthLargest:\n",
    "\n",
    "    def __init__(self, k: int, nums: list):\n",
    "        self.k = k\n",
    "        self.min_heap = nums\n",
    "        heapq.heapify(self.min_heap)\n",
    "\n",
    "        while len(self.min_heap) > k:\n",
    "            heapq.heappop(self.min_heap)\n",
    "\n",
    "    def add(self, val: int) -> int:\n",
    "        heapq.heappush(self.min_heap, val)\n",
    "        if len(self.min_heap) > self.k:\n",
    "            heapq.heappop(self.min_heap)\n",
    "        return self.min_heap[0]"
   ]
  },
  {
   "cell_type": "code",
   "execution_count": 26,
   "id": "34a62fc5-5d34-4aa7-a43d-fb9c20779975",
   "metadata": {},
   "outputs": [
    {
     "name": "stdout",
     "output_type": "stream",
     "text": [
      "4\n",
      "5\n",
      "5\n",
      "8\n",
      "8\n"
     ]
    }
   ],
   "source": [
    "k = 3\n",
    "nums = [4, 5, 8, 2]\n",
    "kth_largest = KthLargest(k, nums)\n",
    "\n",
    "print(kth_largest.add(3))   # 4\n",
    "print(kth_largest.add(5))   # 5\n",
    "print(kth_largest.add(10))  # 5\n",
    "print(kth_largest.add(9))   # 8\n",
    "print(kth_largest.add(4))   # 8"
   ]
  },
  {
   "cell_type": "code",
   "execution_count": null,
   "id": "1e5cf3d9-aefc-4f25-bbd9-b370cf82e143",
   "metadata": {},
   "outputs": [],
   "source": []
  }
 ],
 "metadata": {
  "kernelspec": {
   "display_name": "Python 3 (ipykernel)",
   "language": "python",
   "name": "python3"
  },
  "language_info": {
   "codemirror_mode": {
    "name": "ipython",
    "version": 3
   },
   "file_extension": ".py",
   "mimetype": "text/x-python",
   "name": "python",
   "nbconvert_exporter": "python",
   "pygments_lexer": "ipython3",
   "version": "3.10.11"
  }
 },
 "nbformat": 4,
 "nbformat_minor": 5
}
